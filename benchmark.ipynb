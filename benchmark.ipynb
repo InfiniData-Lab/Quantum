{
 "cells": [
  {
   "cell_type": "code",
   "execution_count": 1,
   "metadata": {},
   "outputs": [],
   "source": [
    "import os, sys, json, datetime\n",
    "\n",
    "import InfiniQuantumSim.TLtensor as tlt"
   ]
  },
  {
   "cell_type": "code",
   "execution_count": 9,
   "metadata": {},
   "outputs": [],
   "source": [
    "circuit_n_qubits = {\n",
    "    'W': range(5,35),\n",
    "    'H': range(5,36),\n",
    "    'QFT': range(5,25),\n",
    "    'GHZ': range(5,35),\n",
    "    'QPE': range(5,19)\n",
    "} \n",
    "contr_methods = ['sqlite', 'psql', 'ducksql']\n",
    "n_runs = 20\n",
    "\n",
    "circuits = {\n",
    "    'GHZ': tlt.generate_ghz_circuit, \n",
    "    'W': tlt.generate_w_circuit,\n",
    "    'QFT': tlt.generate_qft_circuit,\n",
    "    'QPE': tlt.generate_qpe_circuit,\n",
    "}\n",
    "results = {}"
   ]
  },
  {
   "cell_type": "markdown",
   "metadata": {},
   "source": [
    "## Benchmark run for all circuits"
   ]
  },
  {
   "cell_type": "code",
   "execution_count": null,
   "metadata": {},
   "outputs": [],
   "source": [
    "mem_limit_bytes = 2**34\n",
    "tim_limit_seconds = 2**4\n",
    "for cname, circuit in circuits.items():\n",
    "    oom = [\"psql\", \"ducksql\"]\n",
    "    results[cname] = {}\n",
    "    progress = 0\n",
    "    l_qbits = len(circuit_n_qubits[cname])-1\n",
    "    for n_qubits in circuit_n_qubits[cname]:\n",
    "        sys.stdout.write('\\r')\n",
    "        circuit_dict = circuit(n_qubits)\n",
    "        qc = tlt.QuantumCircuit(circuit_dict=circuit_dict)\n",
    "\n",
    "        results[cname][n_qubits] = qc.benchmark_ciruit_performance(n_runs, oom = oom)\n",
    "        for method in results[cname][n_qubits].keys():\n",
    "               if method in oom or method == \"eqc\":\n",
    "                    continue\n",
    "               mem_avg = sum(results[cname][n_qubits][method][\"memory\"])/n_runs\n",
    "               tim_avg = sum(results[cname][n_qubits][method][\"time\"])/n_runs\n",
    "               if \"sql\" in method:\n",
    "                    mem_avg += sum(results[cname][n_qubits][\"eqc\"][\"tensor\"][\"memory\"])/n_runs\n",
    "                    tim_avg += sum(results[cname][n_qubits][\"eqc\"][\"tensor\"][\"time\"])/n_runs\n",
    "                    mem_avg += sum(results[cname][n_qubits][\"eqc\"][\"contraction\"][\"memory\"])/n_runs\n",
    "                    tim_avg += sum(results[cname][n_qubits][\"eqc\"][\"contraction\"][\"time\"])/n_runs\n",
    "\n",
    "               if  mem_avg >= mem_limit_bytes:\n",
    "                    print(f'{method} kicked out due to memory limitations!\\n')\n",
    "                    oom.append(method)\n",
    "               elif tim_avg >= tim_limit_seconds:\n",
    "                    print(f'{method} kicked out due to time limitations!\\n')\n",
    "                    oom.append(method)\n",
    "\n",
    "        sys.stdout.write(\"[%-20s] %d%%\" % ('='*int((20/l_qbits)*progress), progress*(100/l_qbits)))\n",
    "        sys.stdout.flush()\n",
    "        progress += 1\n",
    "\n",
    "    print(\"\\n\" + cname + \" done!\")"
   ]
  },
  {
   "cell_type": "markdown",
   "metadata": {},
   "source": [
    "### Save Results to json File"
   ]
  },
  {
   "cell_type": "code",
   "execution_count": 11,
   "metadata": {},
   "outputs": [],
   "source": [
    "fname = datetime.datetime.now().strftime(\"results/%m%d%y\") \n",
    "\n",
    "if os.path.exists(fname + \".json\"):\n",
    "    i = 1\n",
    "    while os.path.exists(fname + f\"_{i}\" + \".json\"):\n",
    "        i += 1\n",
    "\n",
    "    fname += f\"_{i}\"\n",
    "\n",
    "fname += \".json\"\n",
    "with open(fname, \"w\") as file:\n",
    "    json.dump(results, file)"
   ]
  }
 ],
 "metadata": {
  "kernelspec": {
   "display_name": "QuantumProject-QWEiQ0Fy",
   "language": "python",
   "name": "python3"
  },
  "language_info": {
   "codemirror_mode": {
    "name": "ipython",
    "version": 3
   },
   "file_extension": ".py",
   "mimetype": "text/x-python",
   "name": "python",
   "nbconvert_exporter": "python",
   "pygments_lexer": "ipython3",
   "version": "3.13.0"
  }
 },
 "nbformat": 4,
 "nbformat_minor": 2
}
